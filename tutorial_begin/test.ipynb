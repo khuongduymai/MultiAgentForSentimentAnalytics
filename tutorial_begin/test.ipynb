{
 "cells": [
  {
   "cell_type": "code",
   "execution_count": null,
   "id": "4c7e6ca6",
   "metadata": {},
   "outputs": [],
   "source": [
    "# Intermediate results will be saved in this directory\n",
    "work_dir = \"../report\"\n",
    "os.makedirs(work_dir, exist_ok=True)\n",
    "\n",
    "assistant = SingleAssistantShadow(\n",
    "    \"Expert_Investor\",\n",
    "    llm_config,\n",
    "    max_consecutive_auto_reply=None,\n",
    "    human_input_mode=\"TERMINATE\",\n",
    ")"
   ]
  },
  {
   "cell_type": "code",
   "execution_count": null,
   "id": "6188befe",
   "metadata": {},
   "outputs": [],
   "source": [
    "\n",
    "message = dedent(\n",
    "    f\"\"\"\n",
    "    With the tools you've been provided, write the give short report (1-3 sentences) about the feedback of the customers and give the action need to improve the bussiness.\n",
    "    Pay attention to the followings:\n",
    "    - Use tools one by one for clarity, especially when asking for instructions.\n",
    "    - \n",
    "    With the tools you've been provided, write an annual report based on {company}'s {fyear} 10-k report, format it into a pdf.\n",
    "    Pay attention to the followings:\n",
    "    - Explicitly explain your working plan before you kick off.\n",
    "    - Use tools one by one for clarity, especially when asking for instructions. \n",
    "    - All your file operations should be done in \"{work_dir}\". \n",
    "    - Display any image in the chat once generated.\n",
    "    - All the paragraphs should combine between 400 and 450 words, don't generate the pdf until this is explicitly fulfilled.\n",
    "\"\"\"\n",
    ")\n",
    "\n",
    "assistant.chat(message, use_cache=True, max_turns=50,\n",
    "               summary_method=\"last_msg\")"
   ]
  },
  {
   "cell_type": "code",
   "execution_count": null,
   "id": "d57a11d7",
   "metadata": {},
   "outputs": [],
   "source": []
  }
 ],
 "metadata": {
  "kernelspec": {
   "display_name": "Python 3",
   "language": "python",
   "name": "python3"
  },
  "language_info": {
   "codemirror_mode": {
    "name": "ipython",
    "version": 3
   },
   "file_extension": ".py",
   "mimetype": "text/x-python",
   "name": "python",
   "nbconvert_exporter": "python",
   "pygments_lexer": "ipython3",
   "version": "3.12.2"
  }
 },
 "nbformat": 4,
 "nbformat_minor": 5
}
